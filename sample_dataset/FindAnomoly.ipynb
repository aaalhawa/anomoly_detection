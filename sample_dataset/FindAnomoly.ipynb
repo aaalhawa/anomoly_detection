{
 "cells": [
  {
   "cell_type": "code",
   "execution_count": 1,
   "metadata": {
    "collapsed": false
   },
   "outputs": [
    {
     "name": "stdout",
     "output_type": "stream",
     "text": [
      "batch_log.json\tFindAnomoly.ipynb  path.png  stream_log.json\r\n"
     ]
    }
   ],
   "source": [
    "!ls"
   ]
  },
  {
   "cell_type": "code",
   "execution_count": 2,
   "metadata": {
    "collapsed": true
   },
   "outputs": [],
   "source": [
    "import pandas as pd"
   ]
  },
  {
   "cell_type": "code",
   "execution_count": 32,
   "metadata": {
    "collapsed": false,
    "scrolled": true
   },
   "outputs": [
    {
     "name": "stdout",
     "output_type": "stream",
     "text": [
      "{\"event_type\":\"purchase\", \"timestamp\":\"2017-06-14 18:46:50\", \"id\": \"5008\", \"amount\": \"47.99\"}\r\n",
      "{\"event_type\":\"purchase\", \"timestamp\":\"2017-06-14 18:46:50\", \"id\": \"7891\", \"amount\": \"65.22\"}\r\n",
      "{\"event_type\":\"purchase\", \"timestamp\":\"2017-06-14 18:46:50\", \"id\": \"1677\", \"amount\": \"70.52\"}\r\n",
      "{\"event_type\":\"purchase\", \"timestamp\":\"2017-06-14 18:46:50\", \"id\": \"4485\", \"amount\": \"40.75\"}\r\n",
      "{\"event_type\":\"purchase\", \"timestamp\":\"2017-06-14 18:46:50\", \"id\": \"5846\", \"amount\": \"18.55\"}\r\n",
      "{\"event_type\":\"purchase\", \"timestamp\":\"2017-06-14 18:46:50\", \"id\": \"8840\", \"amount\": \"89.90\"}\r\n",
      "{\"event_type\":\"purchase\", \"timestamp\":\"2017-06-14 18:46:50\", \"id\": \"6764\", \"amount\": \"29.74\"}\r\n",
      "{\"event_type\":\"unfriend\", \"timestamp\":\"2017-06-14 18:46:50\", \"id1\": \"5256\", \"id2\": \"3150\"}\r\n",
      "{\"event_type\":\"purchase\", \"timestamp\":\"2017-06-14 18:46:50\", \"id\": \"2743\", \"amount\": \"117.64\"}\r\n",
      "{\"event_type\":\"purchase\", \"timestamp\":\"2017-06-14 18:46:50\", \"id\": \"1111\", \"amount\": \"13.15\"}\r\n"
     ]
    }
   ],
   "source": [
    "!head -n 10 stream_log.json"
   ]
  },
  {
   "cell_type": "markdown",
   "metadata": {},
   "source": [
    "# Processing the Batch file"
   ]
  },
  {
   "cell_type": "code",
   "execution_count": 36,
   "metadata": {
    "collapsed": false,
    "scrolled": false
   },
   "outputs": [],
   "source": [
    "import json\n",
    "import pandas as pd\n",
    "import numpy as np\n",
    "\n",
    "fileName='batch_log.json'\n",
    "Param=[]\n",
    "Purchase = []\n",
    "NetworkBe=[]\n",
    "NetworkNot=[]\n",
    "\n",
    "with open(fileName) as f:\n",
    "    for line in f:\n",
    "            \n",
    "        if line.startswith('{\"D\":'):\n",
    "            LineElem=json.loads(line)\n",
    "            D,T=int(LineElem['D']),int(LineElem['T'])\n",
    "            Param=[D,T]\n",
    "        elif line.startswith('{\"event_type\":\"purchase\"'):\n",
    "            LineElem=json.loads(line)\n",
    "            Purchase.append(np.array([LineElem[\"timestamp\"],LineElem[\"id\"],LineElem[\"amount\"]]))\n",
    "        elif line.startswith('{\"event_type\":\"befriend\"'):\n",
    "            LineElem=json.loads(line)\n",
    "            NetworkBe.append(np.array([LineElem[\"timestamp\"],LineElem[\"id1\"],LineElem[\"id2\"]]))\n",
    "        elif line.startswith('{\"event_type\":\"unfriend\"'):\n",
    "            LineElem=json.loads(line)\n",
    "            NetworkNot.append(np.array([LineElem[\"timestamp\"],LineElem[\"id1\"],LineElem[\"id2\"]]))\n"
   ]
  },
  {
   "cell_type": "code",
   "execution_count": 40,
   "metadata": {
    "collapsed": false
   },
   "outputs": [],
   "source": [
    "DF_Purch=pd.DataFrame(Purchase,columns=['timestamp','id','amount'])\n",
    "DF_NetworkBe=pd.DataFrame(NetworkBe,columns=['timestamp','id1','id2'])\n",
    "NetworkNot=pd.DataFrame(NetworkNot,columns=['timestamp','id1','id2'])\n"
   ]
  },
  {
   "cell_type": "markdown",
   "metadata": {},
   "source": [
    "# Building scocial Network Graph"
   ]
  },
  {
   "cell_type": "code",
   "execution_count": 64,
   "metadata": {
    "collapsed": true
   },
   "outputs": [],
   "source": [
    "set1= set(DF_NetworkBe.id1.tolist())\n",
    "set2= set(DF_NetworkBe.id2.tolist())\n",
    "SetAll=set1.union(set2)\n",
    "ListAll=list(SetAll)\n",
    "\n",
    "DF_Id_list=DF_NetworkBe.groupby('id1')['id2'].apply(list).reset_index()\n",
    "\n",
    "import networkx as nx\n",
    "G=nx.Graph()\n",
    "# add a list of nodes,\n",
    "G.add_nodes_from(ListAll)\n",
    "\n",
    "EdgesAdded=[(DF_NetworkBe['id1'][i],DF_NetworkBe['id2'][i]) for i in range(len(DF_NetworkBe))]\n",
    "\n",
    "G.add_edges_from(EdgesAdded)\n",
    "\n",
    "EdgesrEMOVED=[(NetworkNot['id1'][i],NetworkNot['id2'][i]) for i in range(len(NetworkNot))]\n",
    "\n",
    "G.remove_edges_from(EdgesrEMOVED)"
   ]
  },
  {
   "cell_type": "markdown",
   "metadata": {},
   "source": [
    "# Processing the real time stream file "
   ]
  },
  {
   "cell_type": "code",
   "execution_count": 67,
   "metadata": {
    "collapsed": false
   },
   "outputs": [],
   "source": []
  },
  {
   "cell_type": "code",
   "execution_count": 74,
   "metadata": {
    "collapsed": false
   },
   "outputs": [],
   "source": [
    "fileNameStream='stream_log.json'\n",
    "Purchase2 = []\n",
    "NetworkBe2=[]\n",
    "NetworkNot2=[]\n",
    "\n",
    "def addEdge(G,Edge):\n",
    "    G.add_edges_from(Edge)\n",
    "\n",
    "def rmEdge(G,Edge):\n",
    "    G.remove_edges_from(Edge)\n",
    "                     \n",
    "def addNode(G,Node):\n",
    "    G.add_node(Node)\n",
    "\n",
    "def addNodes(G,Nodes):\n",
    "    G.add_nodes_from(ListAll)\n",
    "                    \n",
    "\n",
    "# Param=[D,T]\n",
    "# T and D are gllobal vraibles\n",
    "\n",
    "def CheckAnomoly(timestamp,node_id,amount,T, D):\n",
    "    # Build dataFrame with all id in the social network with D distance from node_id\n",
    "    \n",
    "    \n",
    "    # Filter the graph with T nearest transactions to the time stamp \n",
    "    \n",
    "    # calculate the mean and the Std of the network \n",
    "    \n",
    "    # if the amount is > mean + 3*std  falg the transaction as Anomoly\n",
    "    \n",
    "    \n",
    "    \n",
    "        \n",
    "\n",
    "\n",
    "with open(fileNameStream) as f:\n",
    "    for line in f:\n",
    "  \n",
    "        if line.startswith('{\"event_type\":\"purchase\"'):\n",
    "            LineElem=json.loads(line)\n",
    "            Purchase2.append(np.array([LineElem[\"timestamp\"],LineElem[\"id\"],LineElem[\"amount\"]]))\n",
    "            addNode(G,LineElem[\"id\"])\n",
    "            CheckAnomoly(LineElem[\"timestamp\"],LineElem[\"id\"],LineElem[\"amount\"])\n",
    "           \n",
    "        elif line.startswith('{\"event_type\":\"befriend\"'):\n",
    "            LineElem=json.loads(line)\n",
    "            NetworkBe2.append(np.array([LineElem[\"timestamp\"],LineElem[\"id1\"],LineElem[\"id2\"]]))\n",
    "            # Updating the scial network graph (adding)\n",
    "            addNodes(G,[LineElem[\"id1\"],LineElem[\"id2\"]])\n",
    "            addEdge(G,[(LineElem[\"id1\"],LineElem[\"id2\"])])\n",
    "\n",
    "           \n",
    "            \n",
    "        elif line.startswith('{\"event_type\":\"unfriend\"'):\n",
    "            LineElem=json.loads(line)\n",
    "            NetworkNot2.append(np.array([LineElem[\"timestamp\"],LineElem[\"id1\"],LineElem[\"id2\"]]))\n",
    "            # Updating the scial network graph (removing) \n",
    "            addNodes(G,[LineElem[\"id1\"],LineElem[\"id2\"]])\n",
    "            rmEdge(G,[(LineElem[\"id1\"],LineElem[\"id2\"])])\n",
    "        \n",
    "    \n",
    "        "
   ]
  },
  {
   "cell_type": "code",
   "execution_count": 73,
   "metadata": {
    "collapsed": false
   },
   "outputs": [],
   "source": [
    " addEdge(G,[(LineElem[\"id1\"],LineElem[\"id2\"])])"
   ]
  },
  {
   "cell_type": "code",
   "execution_count": 58,
   "metadata": {
    "collapsed": false
   },
   "outputs": [
    {
     "data": {
      "text/plain": [
       "('3556', '2143')"
      ]
     },
     "execution_count": 58,
     "metadata": {},
     "output_type": "execute_result"
    }
   ],
   "source": [
    "(NetworkBe2[i2][1],NetworkBe2[i2][2])\n"
   ]
  },
  {
   "cell_type": "code",
   "execution_count": 5,
   "metadata": {
    "collapsed": false
   },
   "outputs": [],
   "source": [
    "\n"
   ]
  },
  {
   "cell_type": "code",
   "execution_count": 44,
   "metadata": {
    "collapsed": false
   },
   "outputs": [],
   "source": []
  },
  {
   "cell_type": "code",
   "execution_count": 43,
   "metadata": {
    "collapsed": false
   },
   "outputs": [
    {
     "data": {
      "text/plain": [
       "'\\nG.number_of_nodes()\\nG.number_of_edges()\\n\\nDF_Id_list.id2[DF_Id_list.id1==\\'1\\'].tolist()\\n\\nDF_Id_list[\"Length\"]=DF_Id_list.id2.apply(len)\\n\\nlen(DF_Id_list.id2[0])\\n\\nG.neighbors(\\'1\\')\\n\\n%matplotlib inline\\nimport matplotlib.pyplot as plt\\nnx.draw(G)\\nplt.show()\\nplt.savefig(\"path.png\")\\n'"
      ]
     },
     "execution_count": 43,
     "metadata": {},
     "output_type": "execute_result"
    }
   ],
   "source": [
    "'''\n",
    "G.number_of_nodes()\n",
    "G.number_of_edges()\n",
    "\n",
    "DF_Id_list.id2[DF_Id_list.id1=='1'].tolist()\n",
    "\n",
    "DF_Id_list[\"Length\"]=DF_Id_list.id2.apply(len)\n",
    "\n",
    "len(DF_Id_list.id2[0])\n",
    "\n",
    "G.neighbors('1')\n",
    "\n",
    "nx.single_source_shortest_path_length(G, '1', cutoff=1)\n",
    "\n",
    "nx.single_source_shortest_path_length(G, '1', cutoff=2)\n",
    "\n",
    "%matplotlib inline\n",
    "import matplotlib.pyplot as plt\n",
    "nx.draw(G)\n",
    "plt.show()\n",
    "plt.savefig(\"path.png\")\n",
    "'''"
   ]
  },
  {
   "cell_type": "code",
   "execution_count": 31,
   "metadata": {
    "collapsed": false
   },
   "outputs": [
    {
     "data": {
      "text/plain": [
       "{'1': 0,\n",
       " '1000': 2,\n",
       " '1038': 2,\n",
       " '104': 2,\n",
       " '1041': 2,\n",
       " '1048': 2,\n",
       " '1057': 2,\n",
       " '1070': 2,\n",
       " '1073': 2,\n",
       " '1075': 2,\n",
       " '1139': 2,\n",
       " '1169': 2,\n",
       " '1174': 2,\n",
       " '1201': 2,\n",
       " '1208': 2,\n",
       " '1355': 2,\n",
       " '1452': 2,\n",
       " '1491': 2,\n",
       " '1504': 2,\n",
       " '1578': 2,\n",
       " '1592': 2,\n",
       " '1603': 2,\n",
       " '1605': 2,\n",
       " '1689': 2,\n",
       " '1699': 2,\n",
       " '1710': 2,\n",
       " '1713': 2,\n",
       " '1844': 2,\n",
       " '187': 2,\n",
       " '1919': 2,\n",
       " '1948': 2,\n",
       " '1957': 1,\n",
       " '1958': 2,\n",
       " '1970': 2,\n",
       " '2020': 2,\n",
       " '2054': 2,\n",
       " '2109': 2,\n",
       " '2115': 2,\n",
       " '2139': 2,\n",
       " '2160': 2,\n",
       " '2178': 2,\n",
       " '2230': 2,\n",
       " '2245': 2,\n",
       " '2257': 2,\n",
       " '2267': 2,\n",
       " '23': 2,\n",
       " '2438': 2,\n",
       " '2542': 2,\n",
       " '2550': 1,\n",
       " '2570': 2,\n",
       " '269': 2,\n",
       " '2695': 2,\n",
       " '2720': 2,\n",
       " '2739': 2,\n",
       " '2745': 2,\n",
       " '2752': 2,\n",
       " '2765': 2,\n",
       " '2770': 1,\n",
       " '2809': 2,\n",
       " '2824': 2,\n",
       " '2853': 2,\n",
       " '2862': 2,\n",
       " '2875': 2,\n",
       " '2878': 2,\n",
       " '2894': 2,\n",
       " '2983': 2,\n",
       " '2997': 2,\n",
       " '303': 2,\n",
       " '3064': 2,\n",
       " '3102': 2,\n",
       " '3142': 2,\n",
       " '315': 2,\n",
       " '3153': 2,\n",
       " '3190': 2,\n",
       " '3267': 2,\n",
       " '3299': 2,\n",
       " '3340': 2,\n",
       " '3342': 2,\n",
       " '3390': 2,\n",
       " '3402': 2,\n",
       " '3477': 2,\n",
       " '3482': 2,\n",
       " '3484': 2,\n",
       " '355': 2,\n",
       " '363': 2,\n",
       " '3648': 2,\n",
       " '3690': 1,\n",
       " '371': 2,\n",
       " '3713': 2,\n",
       " '3722': 2,\n",
       " '3744': 2,\n",
       " '3749': 2,\n",
       " '3770': 2,\n",
       " '3783': 2,\n",
       " '3785': 2,\n",
       " '3790': 2,\n",
       " '3818': 2,\n",
       " '3835': 2,\n",
       " '3853': 2,\n",
       " '3871': 2,\n",
       " '3885': 2,\n",
       " '3888': 2,\n",
       " '3893': 2,\n",
       " '3916': 2,\n",
       " '3923': 2,\n",
       " '3973': 2,\n",
       " '4006': 2,\n",
       " '4100': 2,\n",
       " '4187': 2,\n",
       " '4215': 2,\n",
       " '425': 2,\n",
       " '4278': 2,\n",
       " '4279': 2,\n",
       " '4291': 2,\n",
       " '437': 2,\n",
       " '4407': 2,\n",
       " '4434': 2,\n",
       " '4441': 2,\n",
       " '4470': 2,\n",
       " '4478': 2,\n",
       " '448': 2,\n",
       " '4497': 2,\n",
       " '450': 2,\n",
       " '4517': 2,\n",
       " '4549': 2,\n",
       " '4558': 2,\n",
       " '4610': 2,\n",
       " '4611': 2,\n",
       " '4618': 2,\n",
       " '4741': 2,\n",
       " '4742': 2,\n",
       " '4790': 2,\n",
       " '4792': 2,\n",
       " '4846': 2,\n",
       " '4881': 2,\n",
       " '4882': 2,\n",
       " '4896': 2,\n",
       " '4918': 2,\n",
       " '4949': 2,\n",
       " '4973': 2,\n",
       " '4997': 2,\n",
       " '5020': 2,\n",
       " '5193': 2,\n",
       " '5236': 1,\n",
       " '5289': 2,\n",
       " '5323': 2,\n",
       " '5338': 2,\n",
       " '5355': 2,\n",
       " '536': 2,\n",
       " '5389': 2,\n",
       " '5411': 2,\n",
       " '5443': 2,\n",
       " '5452': 2,\n",
       " '5464': 2,\n",
       " '5512': 2,\n",
       " '552': 2,\n",
       " '5525': 2,\n",
       " '5551': 2,\n",
       " '5569': 2,\n",
       " '5616': 2,\n",
       " '5636': 1,\n",
       " '5660': 2,\n",
       " '572': 2,\n",
       " '5720': 2,\n",
       " '5752': 2,\n",
       " '5761': 2,\n",
       " '5763': 2,\n",
       " '5821': 2,\n",
       " '5823': 2,\n",
       " '5842': 2,\n",
       " '5858': 2,\n",
       " '5965': 2,\n",
       " '5976': 2,\n",
       " '5977': 1,\n",
       " '5999': 2,\n",
       " '600': 2,\n",
       " '6058': 2,\n",
       " '6074': 2,\n",
       " '6082': 2,\n",
       " '612': 2,\n",
       " '6200': 2,\n",
       " '6226': 2,\n",
       " '6232': 2,\n",
       " '624': 2,\n",
       " '6259': 2,\n",
       " '6267': 2,\n",
       " '6277': 2,\n",
       " '6304': 2,\n",
       " '6320': 2,\n",
       " '6361': 1,\n",
       " '6374': 1,\n",
       " '6383': 2,\n",
       " '6390': 2,\n",
       " '6416': 2,\n",
       " '6426': 2,\n",
       " '643': 2,\n",
       " '6455': 2,\n",
       " '6456': 2,\n",
       " '649': 2,\n",
       " '6502': 2,\n",
       " '6568': 2,\n",
       " '6628': 2,\n",
       " '6664': 2,\n",
       " '668': 2,\n",
       " '6708': 2,\n",
       " '6714': 2,\n",
       " '6743': 1,\n",
       " '6767': 2,\n",
       " '6791': 2,\n",
       " '6851': 2,\n",
       " '6926': 2,\n",
       " '6939': 2,\n",
       " '6966': 2,\n",
       " '7059': 2,\n",
       " '7097': 2,\n",
       " '7100': 2,\n",
       " '7141': 1,\n",
       " '7270': 1,\n",
       " '7280': 2,\n",
       " '7306': 2,\n",
       " '7321': 2,\n",
       " '7341': 2,\n",
       " '7346': 2,\n",
       " '7397': 2,\n",
       " '7406': 2,\n",
       " '7429': 2,\n",
       " '7434': 2,\n",
       " '7455': 2,\n",
       " '7467': 2,\n",
       " '7479': 2,\n",
       " '7482': 2,\n",
       " '7500': 2,\n",
       " '7519': 2,\n",
       " '7547': 2,\n",
       " '7613': 2,\n",
       " '7615': 2,\n",
       " '7641': 2,\n",
       " '7657': 2,\n",
       " '7669': 2,\n",
       " '7723': 2,\n",
       " '7741': 2,\n",
       " '7754': 2,\n",
       " '7768': 2,\n",
       " '7772': 1,\n",
       " '7836': 1,\n",
       " '785': 2,\n",
       " '7874': 2,\n",
       " '7876': 2,\n",
       " '7878': 2,\n",
       " '7912': 2,\n",
       " '7930': 2,\n",
       " '7996': 2,\n",
       " '803': 2,\n",
       " '8037': 2,\n",
       " '8059': 2,\n",
       " '8105': 2,\n",
       " '8188': 2,\n",
       " '8240': 2,\n",
       " '8276': 2,\n",
       " '830': 2,\n",
       " '8342': 2,\n",
       " '8408': 2,\n",
       " '8545': 2,\n",
       " '8550': 2,\n",
       " '8564': 2,\n",
       " '8585': 2,\n",
       " '861': 2,\n",
       " '8616': 2,\n",
       " '8646': 2,\n",
       " '8699': 2,\n",
       " '872': 2,\n",
       " '8720': 2,\n",
       " '8771': 2,\n",
       " '8789': 2,\n",
       " '8910': 2,\n",
       " '8914': 1,\n",
       " '8949': 2,\n",
       " '895': 2,\n",
       " '9046': 2,\n",
       " '9050': 2,\n",
       " '9073': 2,\n",
       " '9080': 2,\n",
       " '9127': 2,\n",
       " '9140': 2,\n",
       " '9148': 2,\n",
       " '9175': 2,\n",
       " '9200': 2,\n",
       " '9249': 2,\n",
       " '9250': 2,\n",
       " '9253': 2,\n",
       " '9310': 2,\n",
       " '9339': 2,\n",
       " '9341': 2,\n",
       " '9370': 1,\n",
       " '9374': 2,\n",
       " '9376': 2,\n",
       " '9387': 2,\n",
       " '9405': 2,\n",
       " '941': 2,\n",
       " '9424': 2,\n",
       " '9502': 2,\n",
       " '9503': 2,\n",
       " '9567': 2,\n",
       " '9638': 2,\n",
       " '9655': 2,\n",
       " '9659': 2,\n",
       " '9660': 2,\n",
       " '9675': 2,\n",
       " '9698': 2,\n",
       " '9708': 2,\n",
       " '9735': 2,\n",
       " '9738': 1,\n",
       " '9743': 2,\n",
       " '9801': 2,\n",
       " '9822': 2,\n",
       " '9832': 2,\n",
       " '9847': 2,\n",
       " '9873': 2,\n",
       " '9887': 2,\n",
       " '9915': 2,\n",
       " '9922': 2,\n",
       " '9964': 2,\n",
       " '997': 2,\n",
       " '9983': 2}"
      ]
     },
     "execution_count": 31,
     "metadata": {},
     "output_type": "execute_result"
    }
   ],
   "source": [
    "nx.single_source_shortest_path_length(G, '1', cutoff=2)"
   ]
  },
  {
   "cell_type": "code",
   "execution_count": null,
   "metadata": {
    "collapsed": true
   },
   "outputs": [],
   "source": []
  }
 ],
 "metadata": {
  "kernelspec": {
   "display_name": "Python 3",
   "language": "python",
   "name": "python3"
  },
  "language_info": {
   "codemirror_mode": {
    "name": "ipython",
    "version": 3
   },
   "file_extension": ".py",
   "mimetype": "text/x-python",
   "name": "python",
   "nbconvert_exporter": "python",
   "pygments_lexer": "ipython3",
   "version": "3.6.0"
  }
 },
 "nbformat": 4,
 "nbformat_minor": 2
}
